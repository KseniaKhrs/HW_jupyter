{
 "cells": [
  {
   "cell_type": "markdown",
   "id": "a54ce535",
   "metadata": {},
   "source": [
    "## Задание 2"
   ]
  },
  {
   "cell_type": "markdown",
   "id": "0f97d19e",
   "metadata": {},
   "source": [
    "*На складе лежат разные фрукты в разном количестве. Нужно написать функцию, которая на вход принимает любое количество названий фруктов и их количество, а возвращает общее количество фруктов на складе*"
   ]
  },
  {
   "cell_type": "code",
   "execution_count": 37,
   "id": "568b7bca",
   "metadata": {},
   "outputs": [],
   "source": [
    "def total_qtty(dict):\n",
    "    print (sum(dict.values()))"
   ]
  },
  {
   "cell_type": "code",
   "execution_count": 38,
   "id": "0fd5f522",
   "metadata": {},
   "outputs": [
    {
     "name": "stdout",
     "output_type": "stream",
     "text": [
      "299\n"
     ]
    }
   ],
   "source": [
    "fruit_qtty = {'апельсины': 55, 'бананы': 76, 'яблоки': 108, 'груши':60}\n",
    "total_qtty(fruit_qtty)"
   ]
  },
  {
   "cell_type": "markdown",
   "id": "dd769c03",
   "metadata": {},
   "source": [
    "## Задание 3"
   ]
  },
  {
   "cell_type": "markdown",
   "id": "fce34c0d",
   "metadata": {},
   "source": [
    "*Дан список с затратами на рекламу. Но в данных есть ошибки, некоторые затраты имеют отрицательную величину. Удалите такие значения из списка и посчитайте суммарные затраты. Используйте list comprehensions*"
   ]
  },
  {
   "cell_type": "code",
   "execution_count": 39,
   "id": "a31745fe",
   "metadata": {},
   "outputs": [],
   "source": [
    "array = [100, 125, -90, 345, 655, -1, 0, 200]"
   ]
  },
  {
   "cell_type": "code",
   "execution_count": 40,
   "id": "78c8fe93",
   "metadata": {},
   "outputs": [
    {
     "name": "stdout",
     "output_type": "stream",
     "text": [
      "1425\n"
     ]
    }
   ],
   "source": [
    "ad_expenses = sum([i for i in array if i >= 0])\n",
    "print(ad_expenses)"
   ]
  },
  {
   "cell_type": "markdown",
   "id": "dffaa01a",
   "metadata": {},
   "source": [
    "## Задание 4"
   ]
  },
  {
   "cell_type": "markdown",
   "id": "68bb640b",
   "metadata": {},
   "source": [
    "*Даны два списка.*"
   ]
  },
  {
   "cell_type": "markdown",
   "id": "5474055d",
   "metadata": {},
   "source": [
    "*Дата покупки:*"
   ]
  },
  {
   "cell_type": "code",
   "execution_count": 42,
   "id": "6e462bb0",
   "metadata": {},
   "outputs": [],
   "source": [
    "date = ['2021-09-14', '2021-12-15', '2021-09-08', '2021-12-05', '2021-10-09', '2021-09-30', '2021-12-22', '2021-11-29', '2021-12-24', '2021-11-26', '2021-10-27', '2021-12-18', '2021-11-09', '2021-11-23', '2021-09-27', '2021-10-02', '2021-12-27', '2021-09-20', '2021-12-13', '2021-11-01', '2021-11-09', '2021-12-06', '2021-12-08', '2021-10-09', '2021-10-31', '2021-09-30', '2021-11-09', '2021-12-13', '2021-10-26', '2021-12-09']"
   ]
  },
  {
   "cell_type": "markdown",
   "id": "d113f942",
   "metadata": {},
   "source": [
    "*Суммы покупок по датам:*"
   ]
  },
  {
   "cell_type": "code",
   "execution_count": 43,
   "id": "35a4ad47",
   "metadata": {},
   "outputs": [],
   "source": [
    "cash = [1270, 8413, 9028, 3703, 5739, 4095, 295, 4944, 5723, 3701, 4471, 651, 7037, 4274, 6275, 4988, 6930, 2971, 6592, 2004, 2822, 519, 3406, 2732, 5015, 2008, 316, 6333, 5700, 2887]"
   ]
  },
  {
   "cell_type": "markdown",
   "id": "6f26c322",
   "metadata": {},
   "source": [
    "### Задание 4. Пункт 1"
   ]
  },
  {
   "cell_type": "markdown",
   "id": "785fa542",
   "metadata": {},
   "source": [
    "*Найдите, какая выручка у компании в ноябре. Используйте list comprehensions*"
   ]
  },
  {
   "cell_type": "code",
   "execution_count": 71,
   "id": "4e6a72db",
   "metadata": {},
   "outputs": [
    {
     "name": "stdout",
     "output_type": "stream",
     "text": [
      "25098\n"
     ]
    }
   ],
   "source": [
    "income = sum([cash[i] for i in range(len(date)) if int(date[i][5:-3]) == 11])\n",
    "print(income)"
   ]
  },
  {
   "cell_type": "markdown",
   "id": "fe0e47b6",
   "metadata": {},
   "source": [
    "### Задание 4. Пункт 2"
   ]
  },
  {
   "cell_type": "markdown",
   "id": "a2a04756",
   "metadata": {},
   "source": [
    "*Найдите выручку компании в зависимости от месяца.\n",
    "Для этого напишите функцию, которая на вход принимает список с датами и список с выручкой, а на выходе словарь, где ключи - это месяцы, а значения - это выручка.\n",
    "Используйте аннотирование типов.*"
   ]
  },
  {
   "cell_type": "code",
   "execution_count": 84,
   "id": "e4971333",
   "metadata": {},
   "outputs": [],
   "source": [
    "def income_dict(cash: list, date: list) -> dict:\n",
    "    result = {}\n",
    "    for i in range (1, 13):\n",
    "        income = sum([cash[j] for j in range(len(date)) if int(date[j][5:-3]) == i])\n",
    "        result[i] = income\n",
    "        #if income != 0: result[i] = income  --вместо предыдущей строки, если в словаре нужны только те месяцы, по которым есть данные\n",
    "    return result"
   ]
  },
  {
   "cell_type": "code",
   "execution_count": 85,
   "id": "5e252723",
   "metadata": {},
   "outputs": [
    {
     "name": "stdout",
     "output_type": "stream",
     "text": [
      "{1: 0, 2: 0, 3: 0, 4: 0, 5: 0, 6: 0, 7: 0, 8: 0, 9: 25647, 10: 28645, 11: 25098, 12: 45452}\n"
     ]
    }
   ],
   "source": [
    "print(income_dict(cash, date))"
   ]
  },
  {
   "cell_type": "code",
   "execution_count": null,
   "id": "1ed07a62",
   "metadata": {},
   "outputs": [],
   "source": []
  }
 ],
 "metadata": {
  "kernelspec": {
   "display_name": "Python 3 (ipykernel)",
   "language": "python",
   "name": "python3"
  },
  "language_info": {
   "codemirror_mode": {
    "name": "ipython",
    "version": 3
   },
   "file_extension": ".py",
   "mimetype": "text/x-python",
   "name": "python",
   "nbconvert_exporter": "python",
   "pygments_lexer": "ipython3",
   "version": "3.9.12"
  }
 },
 "nbformat": 4,
 "nbformat_minor": 5
}
